{
 "cells": [
  {
   "cell_type": "markdown",
   "metadata": {},
   "source": [
    "# What is the True Normal Human Body Temperature? \n",
    "\n",
    "#### Background\n",
    "\n",
    "The mean normal body temperature was held to be 37$^{\\circ}$C or 98.6$^{\\circ}$F for more than 120 years since it was first conceptualized and reported by Carl Wunderlich in a famous 1868 book. But, is this value statistically correct?"
   ]
  },
  {
   "cell_type": "markdown",
   "metadata": {},
   "source": [
    "<h3>Exercises</h3>\n",
    "\n",
    "<p>In this exercise, you will analyze a dataset of human body temperatures and employ the concepts of hypothesis testing, confidence intervals, and statistical significance.</p>\n",
    "\n",
    "<p>Answer the following questions <b>in this notebook below and submit to your Github account</b>.</p> \n",
    "\n",
    "<ol>\n",
    "<li>  Is the distribution of body temperatures normal? \n",
    "    <ul>\n",
    "    <li> Although this is not a requirement for the Central Limit Theorem to hold (read the introduction on Wikipedia's page about the CLT carefully: https://en.wikipedia.org/wiki/Central_limit_theorem), it gives us some peace of mind that the population may also be normally distributed if we assume that this sample is representative of the population.\n",
    "    <li> Think about the way you're going to check for the normality of the distribution. Graphical methods are usually used first, but there are also other ways: https://en.wikipedia.org/wiki/Normality_test\n",
    "    </ul>\n",
    "<li>  Is the sample size large? Are the observations independent?\n",
    "    <ul>\n",
    "    <li> Remember that this is a condition for the Central Limit Theorem, and hence the statistical tests we are using, to apply.\n",
    "    </ul>\n",
    "<li>  Is the true population mean really 98.6 degrees F?\n",
    "    <ul>\n",
    "    <li> First, try a bootstrap hypothesis test.\n",
    "    <li> Now, let's try frequentist statistical testing. Would you use a one-sample or two-sample test? Why?\n",
    "    <li> In this situation, is it appropriate to use the $t$ or $z$ statistic? \n",
    "    <li> Now try using the other test. How is the result be different? Why?\n",
    "    </ul>\n",
    "<li>  Draw a small sample of size 10 from the data and repeat both frequentist tests. \n",
    "    <ul>\n",
    "    <li> Which one is the correct one to use? \n",
    "    <li> What do you notice? What does this tell you about the difference in application of the $t$ and $z$ statistic?\n",
    "    </ul>\n",
    "<li>  At what temperature should we consider someone's temperature to be \"abnormal\"?\n",
    "    <ul>\n",
    "    <li> As in the previous example, try calculating everything using the boostrap approach, as well as the frequentist approach.\n",
    "    <li> Start by computing the margin of error and confidence interval. When calculating the confidence interval, keep in mind that you should use the appropriate formula for one draw, and not N draws.\n",
    "    </ul>\n",
    "<li>  Is there a significant difference between males and females in normal temperature?\n",
    "    <ul>\n",
    "    <li> What testing approach did you use and why?\n",
    "    <li> Write a story with your conclusion in the context of the original problem.\n",
    "    </ul>\n",
    "</ol>\n",
    "\n",
    "You can include written notes in notebook cells using Markdown: \n",
    "   - In the control panel at the top, choose Cell > Cell Type > Markdown\n",
    "   - Markdown syntax: http://nestacms.com/docs/creating-content/markdown-cheat-sheet\n",
    "\n",
    "#### Resources\n",
    "\n",
    "+ Information and data sources: http://www.amstat.org/publications/jse/datasets/normtemp.txt, http://www.amstat.org/publications/jse/jse_data_archive.htm\n",
    "+ Markdown syntax: http://nestacms.com/docs/creating-content/markdown-cheat-sheet\n",
    "\n",
    "****"
   ]
  },
  {
   "cell_type": "code",
   "execution_count": 56,
   "metadata": {
    "scrolled": true
   },
   "outputs": [],
   "source": [
    "import pandas as pd\n",
    "import numpy as np\n",
    "import matplotlib.pyplot as plt\n",
    "import seaborn as sns\n",
    "import scipy\n",
    "import random\n",
    "import statsmodels.api as sm\n",
    "df = pd.read_csv('human_body_temperature.csv')"
   ]
  },
  {
   "cell_type": "markdown",
   "metadata": {},
   "source": [
    "## Question 1: Is the distribution of body temperatures normal?"
   ]
  },
  {
   "cell_type": "code",
   "execution_count": 57,
   "metadata": {
    "scrolled": true
   },
   "outputs": [
    {
     "name": "stdout",
     "output_type": "stream",
     "text": [
      "<class 'pandas.core.frame.DataFrame'>\n",
      "RangeIndex: 130 entries, 0 to 129\n",
      "Data columns (total 3 columns):\n",
      "temperature    130 non-null float64\n",
      "gender         130 non-null object\n",
      "heart_rate     130 non-null float64\n",
      "dtypes: float64(2), object(1)\n",
      "memory usage: 3.1+ KB\n"
     ]
    }
   ],
   "source": [
    "# Read data file\n",
    "df.info()"
   ]
  },
  {
   "cell_type": "code",
   "execution_count": 58,
   "metadata": {
    "scrolled": false
   },
   "outputs": [
    {
     "data": {
      "text/plain": [
       "NormaltestResult(statistic=2.703801433319203, pvalue=0.2587479863488254)"
      ]
     },
     "execution_count": 58,
     "metadata": {},
     "output_type": "execute_result"
    }
   ],
   "source": [
    "scipy.stats.normaltest(df['temperature'])"
   ]
  },
  {
   "cell_type": "markdown",
   "metadata": {},
   "source": [
    "The dataset has a p-value of approximately 0.26, which is greater than alpha of 0.05. As such,\n",
    "the null hypothesis (no difference between the sample and theoretical data) can be rejected."
   ]
  },
  {
   "cell_type": "code",
   "execution_count": 59,
   "metadata": {
    "scrolled": false
   },
   "outputs": [
    {
     "data": {
      "image/png": "[encoded data removed]",
      "text/plain": [
       "<Figure size 432x288 with 1 Axes>"
      ]
     },
     "metadata": {},
     "output_type": "display_data"
    }
   ],
   "source": [
    "# CDF Test\n",
    "\n",
    "# Find mean and standard deviation of sample\n",
    "mean_temp = np.mean(df.temperature)\n",
    "mean_std = np.std(df.temperature)\n",
    "\n",
    "# Create CDF\n",
    "def cdf(data):\n",
    "    n = len(data)\n",
    "    x = np.sort(data)\n",
    "    y = np.arange(1, n+1) / n\n",
    "    return x, y\n",
    "\n",
    "# Obtain the normal distribution of sample\n",
    "normal = np.random.normal(mean_temp,mean_std, 10000)\n",
    "\n",
    "# Run CDF tests for sample and theoretical distributions\n",
    "x, y = cdf(df.temperature)\n",
    "x_norm, y_norm = cdf(normal)\n",
    "\n",
    "plt.plot(x, y, marker='.', ls='None')\n",
    "plt.plot(x_norm, y_norm)\n",
    "plt.xlabel('Tempeture')\n",
    "plt.ylabel('CDF')\n",
    "plt.show()"
   ]
  },
  {
   "cell_type": "markdown",
   "metadata": {},
   "source": [
    "The CDF graph shows that the sample distribution fits with the theoretical normal distribution. This shows that the dataset is normally distribution."
   ]
  },
  {
   "cell_type": "markdown",
   "metadata": {},
   "source": [
    "### Answer 1: The body temperature data set is normally distributed."
   ]
  },
  {
   "cell_type": "markdown",
   "metadata": {},
   "source": [
    "## Question 2: Is the sample size large? Are the observations independent?"
   ]
  },
  {
   "cell_type": "markdown",
   "metadata": {},
   "source": [
    "### Answer 2: The sample size is large and independent.\n",
    "The sample consists of 130 samples, which is more than the minimum 30 samples. As such, this sample size would be considered large. The observations are independent because the temperatures are taken from different people."
   ]
  },
  {
   "cell_type": "markdown",
   "metadata": {},
   "source": [
    "## Question 3: Is the true population mean really 98.6 degrees F?"
   ]
  },
  {
   "cell_type": "code",
   "execution_count": 60,
   "metadata": {},
   "outputs": [
    {
     "data": {
      "text/plain": [
       "Ttest_1sampResult(statistic=-5.4548232923645195, pvalue=2.4106320415561276e-07)"
      ]
     },
     "execution_count": 60,
     "metadata": {},
     "output_type": "execute_result"
    }
   ],
   "source": [
    "# T Test\n",
    "# This test is used is used given how the variance isn't known\n",
    "given_mean = 98.6\n",
    "scipy.stats.ttest_1samp(df.temperature, given_mean)"
   ]
  },
  {
   "cell_type": "markdown",
   "metadata": {},
   "source": [
    "The T-test provides a small p-value that is less than 0.05. Subsequently, I can reject the null hypothesis that the true mean temperature and the given temperature of 98.6 are the same."
   ]
  },
  {
   "cell_type": "code",
   "execution_count": 61,
   "metadata": {
    "scrolled": true
   },
   "outputs": [
    {
     "name": "stdout",
     "output_type": "stream",
     "text": [
      "-5.475925202078116\n",
      "4.3523151658821886e-08\n"
     ]
    }
   ],
   "source": [
    "# Z Test\n",
    "# Create Z Test function\n",
    "def z_test(data1,x2):\n",
    "    mean_val = np.mean(data1)\n",
    "    std_val = np.std(data1)\n",
    "    se = std_val/np.sqrt(len(data1))\n",
    "    z_value = (mean_val-x2)/se\n",
    "    return z_value\n",
    "\n",
    "# Perform Z Test\n",
    "z_stat = z_test(df.temperature,98.6)\n",
    "p_val = scipy.stats.norm.sf(np.abs(z_stat))*2\n",
    "print(z_stat)\n",
    "print(p_val)"
   ]
  },
  {
   "cell_type": "markdown",
   "metadata": {},
   "source": [
    "The Z-test provides a similar statistic yet a completely different p-value. However, since the p-value is also less than 0.05, this test also supports the conclusion that I can reject the null hypothesis and that subsequently the true temperature is not 98.6."
   ]
  },
  {
   "cell_type": "markdown",
   "metadata": {},
   "source": [
    "### Answer 3: The true population mean is not 98.6 degrees F.\n",
    "\n",
    "To compute the p-value, I would use the one-sample t-test type because of how I'm testing a singular data set and because the variance is not known."
   ]
  },
  {
   "cell_type": "markdown",
   "metadata": {},
   "source": [
    "## Question 4: Draw a small sample of size 10 from the data and repeat both frequency tests."
   ]
  },
  {
   "cell_type": "code",
   "execution_count": 62,
   "metadata": {},
   "outputs": [
    {
     "data": {
      "text/html": [
       "<div>\n",
       "<style scoped>\n",
       "    .dataframe tbody tr th:only-of-type {\n",
       "        vertical-align: middle;\n",
       "    }\n",
       "\n",
       "    .dataframe tbody tr th {\n",
       "        vertical-align: top;\n",
       "    }\n",
       "\n",
       "    .dataframe thead th {\n",
       "        text-align: right;\n",
       "    }\n",
       "</style>\n",
       "<table border=\"1\" class=\"dataframe\">\n",
       "  <thead>\n",
       "    <tr style=\"text-align: right;\">\n",
       "      <th></th>\n",
       "      <th>temperature</th>\n",
       "      <th>gender</th>\n",
       "      <th>heart_rate</th>\n",
       "    </tr>\n",
       "  </thead>\n",
       "  <tbody>\n",
       "    <tr>\n",
       "      <th>121</th>\n",
       "      <td>97.9</td>\n",
       "      <td>F</td>\n",
       "      <td>68.0</td>\n",
       "    </tr>\n",
       "    <tr>\n",
       "      <th>55</th>\n",
       "      <td>98.6</td>\n",
       "      <td>F</td>\n",
       "      <td>82.0</td>\n",
       "    </tr>\n",
       "    <tr>\n",
       "      <th>116</th>\n",
       "      <td>100.8</td>\n",
       "      <td>F</td>\n",
       "      <td>77.0</td>\n",
       "    </tr>\n",
       "    <tr>\n",
       "      <th>12</th>\n",
       "      <td>98.2</td>\n",
       "      <td>M</td>\n",
       "      <td>72.0</td>\n",
       "    </tr>\n",
       "    <tr>\n",
       "      <th>38</th>\n",
       "      <td>97.9</td>\n",
       "      <td>F</td>\n",
       "      <td>79.0</td>\n",
       "    </tr>\n",
       "    <tr>\n",
       "      <th>21</th>\n",
       "      <td>98.2</td>\n",
       "      <td>M</td>\n",
       "      <td>71.0</td>\n",
       "    </tr>\n",
       "    <tr>\n",
       "      <th>128</th>\n",
       "      <td>97.9</td>\n",
       "      <td>M</td>\n",
       "      <td>72.0</td>\n",
       "    </tr>\n",
       "    <tr>\n",
       "      <th>16</th>\n",
       "      <td>98.3</td>\n",
       "      <td>F</td>\n",
       "      <td>79.0</td>\n",
       "    </tr>\n",
       "    <tr>\n",
       "      <th>104</th>\n",
       "      <td>97.6</td>\n",
       "      <td>M</td>\n",
       "      <td>69.0</td>\n",
       "    </tr>\n",
       "    <tr>\n",
       "      <th>89</th>\n",
       "      <td>98.1</td>\n",
       "      <td>M</td>\n",
       "      <td>73.0</td>\n",
       "    </tr>\n",
       "  </tbody>\n",
       "</table>\n",
       "</div>"
      ],
      "text/plain": [
       "     temperature gender  heart_rate\n",
       "121         97.9      F        68.0\n",
       "55          98.6      F        82.0\n",
       "116        100.8      F        77.0\n",
       "12          98.2      M        72.0\n",
       "38          97.9      F        79.0\n",
       "21          98.2      M        71.0\n",
       "128         97.9      M        72.0\n",
       "16          98.3      F        79.0\n",
       "104         97.6      M        69.0\n",
       "89          98.1      M        73.0"
      ]
     },
     "execution_count": 62,
     "metadata": {},
     "output_type": "execute_result"
    }
   ],
   "source": [
    "# Create new smaller sample size\n",
    "new_sample = df.sample(10,random_state=50)\n",
    "new_sample"
   ]
  },
  {
   "cell_type": "code",
   "execution_count": 63,
   "metadata": {
    "scrolled": true
   },
   "outputs": [
    {
     "name": "stdout",
     "output_type": "stream",
     "text": [
      "T-test yields statistic=-0.8751154742436703 and p-value=0.40426012207689765.\n",
      "Z-test yields statistic=-0.9224527047561385 and p-value=0.35629248920596857.\n"
     ]
    }
   ],
   "source": [
    "# T-Test on smaller sample\n",
    "t_stat_small,p_val_small_t = scipy.stats.ttest_1samp(new_sample.temperature, 98.6)\n",
    "print('T-test yields statistic={} and p-value={}.'.format(t_stat_small,p_val_small_t))\n",
    "# Z-test on smaller sample\n",
    "z_stat = z_test(new_sample.temperature,98.6)\n",
    "p_val = scipy.stats.norm.sf(np.abs(z_stat))*2\n",
    "print(\"Z-test yields statistic={} and p-value={}.\".format(z_stat,p_val))"
   ]
  },
  {
   "cell_type": "markdown",
   "metadata": {},
   "source": [
    "Conducting T-test and Z-test on a smaller sample size yields different results. For both tests, the p-value is greater than 0.05, meaning that the null hypothesis (true mean temperature is 98.6 degrees fahrenheit) is accepted. Subsequently, this indicates that statistical testing is less reliable at discerning the difference between the smaller sample mean and population means sample size."
   ]
  },
  {
   "cell_type": "markdown",
   "metadata": {},
   "source": [
    "### Answer 4: The frequency tests on smaller set yield statistically different results\n",
    "Subsequently, this shows that the tests cannot reliability differentiate between between sample mean and population means when involving smaller sample sizes."
   ]
  },
  {
   "cell_type": "markdown",
   "metadata": {},
   "source": [
    "## Question 5: At what temperature should we consider someone's temperature to be \"abnormal\"?"
   ]
  },
  {
   "cell_type": "code",
   "execution_count": 64,
   "metadata": {
    "scrolled": true
   },
   "outputs": [
    {
     "name": "stdout",
     "output_type": "stream",
     "text": [
      "The 99% confidence interval is (98.08, 98.41).\n"
     ]
    }
   ],
   "source": [
    "# Conducting the test will involve determining margin of error and confidence interval\n",
    "# Margin of Error\n",
    "z_critical_99 = scipy.stats.norm.ppf(0.995)\n",
    "temp_stdev = np.std(df.temperature)\n",
    "margin_of_error_99 = z_critical_99*(temp_stdev/np.sqrt(len(df.temperature)))\n",
    "\n",
    "# 99% Confidence Interval\n",
    "temp_mean = np.mean(df.temperature)\n",
    "confidence_interval_99 = (temp_mean - margin_of_error_99,temp_mean + margin_of_error_99)\n",
    "print('The 99% confidence interval is ({:2.2f}, {:2.2f}).'.format(confidence_interval_99[0],confidence_interval_99[1]))"
   ]
  },
  {
   "cell_type": "markdown",
   "metadata": {},
   "source": [
    "### Answer 5: The normal human temperature should lie in the 95% confidence interval from 98.12 to 98.37 degrees Fahrenheit."
   ]
  },
  {
   "cell_type": "markdown",
   "metadata": {},
   "source": [
    "## Question 6: Is there a significant difference between males and females in normal temperature?"
   ]
  },
  {
   "cell_type": "code",
   "execution_count": 65,
   "metadata": {
    "scrolled": false
   },
   "outputs": [
    {
     "data": {
      "image/png": "[encoded data removed]",
      "text/plain": [
       "<Figure size 432x288 with 2 Axes>"
      ]
     },
     "metadata": {},
     "output_type": "display_data"
    }
   ],
   "source": [
    "# Box-and-Whisker Plot\n",
    "df[['gender', 'temperature']].groupby('gender').boxplot(return_type='axes')\n",
    "plt.show()"
   ]
  },
  {
   "cell_type": "markdown",
   "metadata": {},
   "source": [
    "There appears to be a difference in the means and ranges of the two gender data sets. However, the means of both genders are within the interquartile range of the other, suggesting no significant difference between the temperature of the two genders."
   ]
  },
  {
   "cell_type": "code",
   "execution_count": 66,
   "metadata": {
    "scrolled": true
   },
   "outputs": [
    {
     "data": {
      "image/png": "[encoded data removed]",
      "text/plain": [
       "<Figure size 432x288 with 2 Axes>"
      ]
     },
     "metadata": {},
     "output_type": "display_data"
    }
   ],
   "source": [
    "# Histogram\n",
    "_ = df['temperature'].hist(by=df['gender'], width=0.4, range=[96, 101])\n",
    "\n",
    "plt.show()"
   ]
  },
  {
   "cell_type": "code",
   "execution_count": 67,
   "metadata": {
    "scrolled": false
   },
   "outputs": [
    {
     "name": "stdout",
     "output_type": "stream",
     "text": [
      "2-Sample T-Test is used because there are 2 sample temperature groups (Male and Female) and variance isn't known.\n",
      "The T-statistic is -2.29 and the p-value is 0.02.\n"
     ]
    }
   ],
   "source": [
    "# T-Test anaylsis\n",
    "male_temp = df['temperature'][df.gender=='M']\n",
    "female_temp = df['temperature'][df.gender=='F']\n",
    "t_statistic, p_val = scipy.stats.ttest_ind(male_temp,female_temp)\n",
    "print(\"2-Sample T-Test is used because there are 2 sample temperature groups (Male and Female) and variance isn't known.\")\n",
    "print('The T-statistic is {:2.2f} and the p-value is {:2.2f}.'.format(t_statistic,p_val))"
   ]
  },
  {
   "cell_type": "code",
   "execution_count": 68,
   "metadata": {
    "scrolled": true
   },
   "outputs": [
    {
     "name": "stdout",
     "output_type": "stream",
     "text": [
      "98.1046153846154\n",
      "98.39384615384613\n",
      "The 99% confidence interval is (98.08, 98.41).\n"
     ]
    }
   ],
   "source": [
    "# Confidence Intervals\n",
    "\"\"\"\n",
    "male_temp_stdev = np.std(male_temp)\n",
    "male_margin_of_error_99 = z_critical_99*(male_temp_stdev/np.sqrt(len(male_temp)))\n",
    "male_confidence_interval = (np.mean(male_temp) - male_margin_of_error_99,np.mean(male_temp) + male_margin_of_error_99)\n",
    "print(\"\\nThe 95% male confidence interval is ({:2.2f}, {:2.2f}).\".format(male_confidence_interval[0],male_confidence_interval[1]))\n",
    "\n",
    "female_temp_stdev = np.std(female_temp)\n",
    "female_margin_of_error_99 = z_critical_99*(female_temp_stdev/np.sqrt(len(female_temp)))\n",
    "female_confidence_interval = (np.mean(female_temp) - female_margin_of_error_99,np.mean(female_temp) + female_margin_of_error_99)\n",
    "print(\"The 95% female confidence interval is ({:2.2f}, {:2.2f}).\".format(female_confidence_interval[0],female_confidence_interval[1]))\n",
    "\"\"\"\n",
    "male_mean = np.mean(male_temp)\n",
    "print(male_mean)\n",
    "female_mean = np.mean(female_temp)\n",
    "print(female_mean)\n",
    "temp_mean = np.mean(df.temperature)\n",
    "confidence_interval_99 = (temp_mean - margin_of_error_99,temp_mean + margin_of_error_99)\n",
    "print('The 99% confidence interval is ({:2.2f}, {:2.2f}).'.format(confidence_interval_99[0],confidence_interval_99[1]))"
   ]
  },
  {
   "cell_type": "code",
   "execution_count": 69,
   "metadata": {
    "scrolled": true
   },
   "outputs": [
    {
     "data": {
      "text/plain": [
       "0.0119"
      ]
     },
     "execution_count": 69,
     "metadata": {},
     "output_type": "execute_result"
    }
   ],
   "source": [
    "\n",
    "\n",
    "\n",
    "def permutation_sample(data1, data2):\n",
    "    data = np.concatenate((data1, data2))\n",
    "    permuted_data = np.random.permutation(data)\n",
    "    perm_sample_1 = permuted_data[:len(data1)]\n",
    "    perm_sample_2 = permuted_data[len(data1):]\n",
    "    \n",
    "    return perm_sample_1, perm_sample_2\n",
    "\n",
    "def draw_perm_reps(data_1, data_2, func, size = 1):\n",
    "    perm_replicates = np.empty(size)\n",
    "\n",
    "    for i in range(size):\n",
    "        perm_sample_1, perm_sample_2 = permutation_sample(data_1, data_2)\n",
    "        perm_replicates[i] = func(perm_sample_1, perm_sample_2)\n",
    "\n",
    "    return perm_replicates\n",
    "\n",
    "def diff_of_means(data_1, data_2):\n",
    "    return np.mean(data_1) - np.mean(data_2)\n",
    "\n",
    "empirical_diff_means = diff_of_means(female_temp, male_temp)\n",
    "\n",
    "perm_replicates = draw_perm_reps(female_temp, male_temp, \n",
    "                                 diff_of_means, size = 10000)\n",
    "\n",
    "p = np.sum(perm_replicates >= empirical_diff_means) / len(perm_replicates)\n",
    "p"
   ]
  },
  {
   "cell_type": "markdown",
   "metadata": {},
   "source": [
    "### Answer 6: There is a difference in temperature between the genders.\n",
    "The 2-Sample T-Test yields a p-value of 0.02 and a separate permuation test yields a p-value of 0.0131. Since both p-values are less than 0.05, , which is also less than 0.05. As both p-values are less than 0.05, there is a significant difference between the two body temperature. "
   ]
  },
  {
   "cell_type": "markdown",
   "metadata": {},
   "source": [
    "### Summary\n",
    "In summary, the statistical analysis offers many insights into the data on human body temperature. The body temperatures values are normally distributed. The previously established body temperature of 98.6 degrees fahrenheit is incorrect. Instead, base on a 99% confidence interval, the human body temperature is from 98.08 to 98.41 degrees fahrenheit. Finally, there is a statistical difference between the genders in body temperature."
   ]
  }
 ],
 "metadata": {
  "kernelspec": {
   "display_name": "Python 3",
   "language": "python",
   "name": "python3"
  },
  "language_info": {
   "codemirror_mode": {
    "name": "ipython",
    "version": 3
   },
   "file_extension": ".py",
   "mimetype": "text/x-python",
   "name": "python",
   "nbconvert_exporter": "python",
   "pygments_lexer": "ipython3",
   "version": "3.6.5"
  }
 },
 "nbformat": 4,
 "nbformat_minor": 1
}
